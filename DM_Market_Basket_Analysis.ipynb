{
 "cells": [
  {
   "cell_type": "code",
   "execution_count": 1,
   "metadata": {
    "id": "cv1QSCbSLUoE"
   },
   "outputs": [],
   "source": [
    "import pandas as pd\n",
    "import matplotlib as mlp\n",
    "import matplotlib.pyplot as plt\n",
    "import seaborn as sns\n",
    "\n",
    "#mlextend library for applying the apriori algorithm and association rules.\n",
    "from mlxtend.frequent_patterns import apriori\n",
    "from mlxtend.frequent_patterns import association_rules\n",
    "\n",
    "import time"
   ]
  },
  {
   "cell_type": "code",
   "execution_count": null,
   "metadata": {
    "colab": {
     "base_uri": "https://localhost:8080/",
     "height": 206
    },
    "id": "NjW0Gu9ELkXd",
    "outputId": "26523a12-04dd-469d-9c3d-3e08aed321c4"
   },
   "outputs": [],
   "source": [
    "#Reading the file into a pandas dataframe\n",
    "df=pd.read_excel('online_retail_II.xlsx' , header=0)\n",
    "df.head()"
   ]
  },
  {
   "cell_type": "code",
   "execution_count": null,
   "metadata": {
    "colab": {
     "base_uri": "https://localhost:8080/"
    },
    "id": "O2A7Rk3SLuK5",
    "outputId": "34cd095c-d1f4-455c-d2de-4e6727497f4c"
   },
   "outputs": [],
   "source": [
    "df.info()"
   ]
  },
  {
   "cell_type": "code",
   "execution_count": null,
   "metadata": {
    "colab": {
     "base_uri": "https://localhost:8080/"
    },
    "id": "LsVAVGYCNZN7",
    "outputId": "c5bd9bde-8c8c-496a-bdcf-015d3da468d0"
   },
   "outputs": [],
   "source": [
    "df.isna().sum()"
   ]
  },
  {
   "cell_type": "markdown",
   "metadata": {
    "id": "6m4psFkWNdn-"
   },
   "source": [
    "SO, CustomerID has maximum null values which we need to remove."
   ]
  },
  {
   "cell_type": "code",
   "execution_count": null,
   "metadata": {
    "colab": {
     "base_uri": "https://localhost:8080/"
    },
    "id": "lA580ZEDNlCL",
    "outputId": "cb1ad559-e966-425b-b52c-f5baa03527ed"
   },
   "outputs": [],
   "source": [
    "df.dropna(inplace=True)\n",
    "len(df)"
   ]
  },
  {
   "cell_type": "code",
   "execution_count": null,
   "metadata": {},
   "outputs": [],
   "source": [
    "df"
   ]
  },
  {
   "cell_type": "code",
   "execution_count": null,
   "metadata": {
    "colab": {
     "base_uri": "https://localhost:8080/"
    },
    "id": "jGNDClLiPj3B",
    "outputId": "fd037839-78fb-41b0-e2fe-610b7a156855"
   },
   "outputs": [],
   "source": [
    "#Number of unique countries \n",
    "print(f\"Number of unique Country: {df['Country'].nunique()}\")"
   ]
  },
  {
   "cell_type": "code",
   "execution_count": null,
   "metadata": {
    "colab": {
     "base_uri": "https://localhost:8080/"
    },
    "id": "WZkbl7KQPdL_",
    "outputId": "0bac17c0-a033-4376-89f6-694526302cab"
   },
   "outputs": [],
   "source": [
    "#Number of transactions left per country\n",
    "top10 = df[\"Country\"].value_counts().head(10)\n",
    "print(top10)"
   ]
  },
  {
   "cell_type": "code",
   "execution_count": null,
   "metadata": {
    "colab": {
     "base_uri": "https://localhost:8080/",
     "height": 310
    },
    "id": "L_aYzo9xTuhG",
    "outputId": "7a636f3b-6028-4de1-9fe2-cdefc81fff97"
   },
   "outputs": [],
   "source": [
    "df['Amount']=df['Quantity']*df['Price']\n",
    "df.head()"
   ]
  },
  {
   "cell_type": "code",
   "execution_count": null,
   "metadata": {
    "id": "ibvyZpuLXYLH"
   },
   "outputs": [],
   "source": [
    "df['year_month']=df['InvoiceDate'].dt.strftime('%Y-%m')"
   ]
  },
  {
   "cell_type": "code",
   "execution_count": null,
   "metadata": {
    "colab": {
     "base_uri": "https://localhost:8080/",
     "height": 474
    },
    "id": "0MAMrcnvXlLE",
    "outputId": "84b09725-6539-49b1-e6cf-d47dd4432e92"
   },
   "outputs": [],
   "source": [
    "df1=pd.DataFrame(df.groupby('year_month')['Amount'].sum())\n",
    "df1=df1.reset_index()\n",
    "plt.figure(figsize=(10,7))\n",
    "sns.lineplot(data=df1,x='year_month',y='Amount')\n",
    "plt.xticks(rotation=30);"
   ]
  },
  {
   "cell_type": "markdown",
   "metadata": {
    "id": "kxElNpOtX6cq"
   },
   "source": [
    "SO, it can be observed that most number of the transactions were between October, 2011 and December, 2011"
   ]
  },
  {
   "cell_type": "code",
   "execution_count": null,
   "metadata": {
    "colab": {
     "base_uri": "https://localhost:8080/",
     "height": 513
    },
    "id": "Ya8FsQyfWIw1",
    "outputId": "ec02e164-c45e-45ba-b6c0-1c56eb2bc261"
   },
   "outputs": [],
   "source": [
    "df['Country'].value_counts()[:15].sort_values(ascending = False).head(10).plot.bar(figsize=(10, 7),xlabel='Country',ylabel='Number of Transactions');"
   ]
  },
  {
   "cell_type": "markdown",
   "metadata": {
    "id": "wpooyjZFW29x"
   },
   "source": [
    "It can be observed that United Kingdom has the highest number of transactions. So, only UK is kept for analysis."
   ]
  },
  {
   "cell_type": "code",
   "execution_count": null,
   "metadata": {
    "colab": {
     "base_uri": "https://localhost:8080/",
     "height": 380
    },
    "id": "LtT7EAxOJBLl",
    "outputId": "45c5a8c6-9cd3-44ee-a881-08b60391c37a"
   },
   "outputs": [],
   "source": [
    "#Group, sum, unstack and set index of dataframe\n",
    "basket = df[df['Country'] ==\"United Kingdom\"]\\\n",
    "        .groupby(['Invoice', 'Description'])[\"Quantity\"]\\\n",
    "        .sum().unstack()\\\n",
    "        .reset_index().fillna(0)\\\n",
    "        .set_index(\"Invoice\")\n",
    "\n",
    "basket.head()"
   ]
  },
  {
   "cell_type": "markdown",
   "metadata": {
    "id": "L8zNBRX-emtZ"
   },
   "source": [
    "Next task is to hot encode our data. To do this, we can create a simple function to convert any values above zero to a 1, and any zeros to 0. We can then apply the function using the applymap() method.\n",
    "\n",
    "[ ]\n"
   ]
  },
  {
   "cell_type": "code",
   "execution_count": null,
   "metadata": {
    "colab": {
     "base_uri": "https://localhost:8080/",
     "height": 568
    },
    "id": "RytYCKnCenlT",
    "outputId": "24fc9a0a-9b6c-4b8e-d07e-37f18e25abd1"
   },
   "outputs": [],
   "source": [
    "def encode(x):\n",
    "    if x <= 0:\n",
    "        return 0\n",
    "    if x >= 1:\n",
    "        return 1\n",
    "\n",
    "encoded_df = basket.applymap(encode)\n",
    "\n",
    "encoded_df"
   ]
  },
  {
   "cell_type": "markdown",
   "metadata": {
    "id": "FjmDiM21e2w_"
   },
   "source": [
    "We don't need those transactions which has only only one item sold. So, we will remove those transactions. "
   ]
  },
  {
   "cell_type": "code",
   "execution_count": null,
   "metadata": {
    "colab": {
     "base_uri": "https://localhost:8080/",
     "height": 568
    },
    "id": "9XZtc10-e3Pe",
    "outputId": "fcbb329c-9313-45f9-af04-fab1f9e3d50d"
   },
   "outputs": [],
   "source": [
    "filtered_df = encoded_df[(encoded_df > 0).sum(axis=1) >= 2]\n",
    "\n",
    "filtered_df"
   ]
  },
  {
   "cell_type": "markdown",
   "metadata": {
    "id": "UcWyLdicfF5H"
   },
   "source": [
    "Apply Apriori Algorithm"
   ]
  },
  {
   "cell_type": "code",
   "execution_count": null,
   "metadata": {
    "id": "6UiGDcglfFOl"
   },
   "outputs": [],
   "source": [
    "start_time = time.time()\n",
    "frequent_itemsets = apriori(filtered_df, min_support=0.03, use_colnames=True).sort_values(\"support\",ascending=False)\n",
    "frequent_itemsets\n",
    "end_time = time.time()"
   ]
  },
  {
   "cell_type": "code",
   "execution_count": null,
   "metadata": {
    "colab": {
     "base_uri": "https://localhost:8080/"
    },
    "id": "5rOnwqnE_0t0",
    "outputId": "39ffe4ee-0238-4ead-facf-79ef58828b7e"
   },
   "outputs": [],
   "source": [
    "elapsed_time = end_time - start_time\n",
    "elapsed_time"
   ]
  },
  {
   "cell_type": "code",
   "execution_count": null,
   "metadata": {
    "colab": {
     "base_uri": "https://localhost:8080/",
     "height": 424
    },
    "id": "59bhfQTBBpDc",
    "outputId": "3827dab0-6c5d-42d1-f356-cad58283cbcb"
   },
   "outputs": [],
   "source": [
    "frequent_itemsets"
   ]
  },
  {
   "cell_type": "markdown",
   "metadata": {
    "id": "UVE2D030fLFj"
   },
   "source": [
    "After getting the frequent itemsets, we need to find association rules."
   ]
  },
  {
   "cell_type": "code",
   "execution_count": null,
   "metadata": {
    "colab": {
     "base_uri": "https://localhost:8080/",
     "height": 300
    },
    "id": "gVuoeJWdfQtZ",
    "outputId": "6b133aa6-d70b-47f0-b3c1-bc6d4e63a5f5"
   },
   "outputs": [],
   "source": [
    "assoc_rules = association_rules(frequent_itemsets, metric=\"lift\", min_threshold=0.8).sort_values(\"lift\",ascending=False).reset_index(drop=True)\n",
    "assoc_rules"
   ]
  },
  {
   "cell_type": "markdown",
   "metadata": {
    "id": "vDpRti-CfY4D"
   },
   "source": [
    "FP GROWTH - ASSOCIATION RULES\n",
    "\n",
    "The FP Growth algorithm can be seen as Apriori’s modern version, as it is faster and more efficient while obtaining the same goal."
   ]
  },
  {
   "cell_type": "markdown",
   "metadata": {
    "id": "MHdg8_L9fsKT"
   },
   "source": [
    "Compute the frequent itemsets using FP Growth algorithm"
   ]
  },
  {
   "cell_type": "code",
   "execution_count": null,
   "metadata": {
    "id": "ng-bSpJPfs6F"
   },
   "outputs": [],
   "source": [
    "from mlxtend.frequent_patterns.fpgrowth import fpgrowth\n"
   ]
  },
  {
   "cell_type": "code",
   "execution_count": null,
   "metadata": {
    "colab": {
     "base_uri": "https://localhost:8080/"
    },
    "id": "s9igCM_ufxts",
    "outputId": "4d65f342-ce57-4ff4-8489-3938708bd2e2"
   },
   "outputs": [],
   "source": [
    "start_time = time.time()\n",
    "f_patterns = fpgrowth(filtered_df, min_support=0.03, use_colnames=True)\n",
    "# print the frequent itemsets\n",
    "\n",
    "f_patterns\n",
    "end_time = time.time()"
   ]
  },
  {
   "cell_type": "code",
   "execution_count": null,
   "metadata": {
    "colab": {
     "base_uri": "https://localhost:8080/"
    },
    "id": "8AR_NlhgAkfH",
    "outputId": "88bba0ed-4af6-4aba-f13f-d77ef2e2d14b"
   },
   "outputs": [],
   "source": [
    "elapsed_time = end_time - start_time\n",
    "elapsed_time"
   ]
  },
  {
   "cell_type": "code",
   "execution_count": null,
   "metadata": {
    "colab": {
     "base_uri": "https://localhost:8080/",
     "height": 424
    },
    "id": "jKVh38fxBvE9",
    "outputId": "d3b91981-e111-48af-a1d8-7aab81a34cae"
   },
   "outputs": [],
   "source": [
    "f_patterns"
   ]
  },
  {
   "cell_type": "markdown",
   "metadata": {
    "id": "hmQJA3hwf08f"
   },
   "source": [
    "In the last step, we need to use the association_rules function to convert those frequent itemsets into association rules"
   ]
  },
  {
   "cell_type": "code",
   "execution_count": null,
   "metadata": {
    "colab": {
     "base_uri": "https://localhost:8080/",
     "height": 300
    },
    "id": "ctI8gfnGf1ed",
    "outputId": "86a0ba5b-a283-4844-850c-e088b5a4c7a1"
   },
   "outputs": [],
   "source": [
    "# Compute the association rules based on the frequent itemsets\n",
    "from mlxtend.frequent_patterns import association_rules\n",
    "\n",
    "# compute and print the association rules\n",
    "association_rules(f_patterns, metric=\"lift\", min_threshold=0.80)"
   ]
  },
  {
   "cell_type": "markdown",
   "metadata": {
    "id": "dbWpubSXgHvy"
   },
   "source": []
  },
  {
   "cell_type": "code",
   "execution_count": null,
   "metadata": {},
   "outputs": [],
   "source": []
  }
 ],
 "metadata": {
  "colab": {
   "provenance": []
  },
  "kernelspec": {
   "display_name": "Python 3 (ipykernel)",
   "language": "python",
   "name": "python3"
  },
  "language_info": {
   "codemirror_mode": {
    "name": "ipython",
    "version": 3
   },
   "file_extension": ".py",
   "mimetype": "text/x-python",
   "name": "python",
   "nbconvert_exporter": "python",
   "pygments_lexer": "ipython3",
   "version": "3.9.13"
  }
 },
 "nbformat": 4,
 "nbformat_minor": 1
}
